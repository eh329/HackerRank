{
 "cells": [
  {
   "cell_type": "code",
   "execution_count": 1,
   "metadata": {},
   "outputs": [],
   "source": [
    "import collections"
   ]
  },
  {
   "cell_type": "markdown",
   "metadata": {},
   "source": [
    "## Collections.deque()"
   ]
  },
  {
   "cell_type": "code",
   "execution_count": null,
   "metadata": {},
   "outputs": [],
   "source": [
    "N = int(input())\n",
    "deq = collections.deque()\n",
    "for operations in range(N):\n",
    "    op = input().split()\n",
    "    \n",
    "    if op[0] == \"append\":\n",
    "        deq.append(int(op[1]))\n",
    "        \n",
    "    elif op[0] == \"appendleft\":\n",
    "        deq.appendleft(int(op[1]))\n",
    "        \n",
    "    elif op[0] == \"pop\":\n",
    "        deq.pop()\n",
    "        \n",
    "    else:\n",
    "        deq.popleft()\n",
    "        \n",
    "for item in deq:\n",
    "    print(item, end = \" \")"
   ]
  },
  {
   "cell_type": "markdown",
   "metadata": {},
   "source": [
    "## Collections.OrderedDict()"
   ]
  },
  {
   "cell_type": "code",
   "execution_count": null,
   "metadata": {},
   "outputs": [],
   "source": [
    "item_list = collections.OrderedDict()\n",
    "N = int(input())\n",
    "\n",
    "for item in range(N):\n",
    "    items = input()\n",
    "    value = int(items.split()[-1])\n",
    "    key = \" \".join([x for x in items.split(\" \") if x.isalpha()])\n",
    "    \n",
    "    if key in item_list:\n",
    "        item_list[key] += value\n",
    "        \n",
    "    else:\n",
    "        item_list[key] = value\n",
    "    \n",
    "for k, v in item_list.items():\n",
    "    print(k, v)"
   ]
  },
  {
   "cell_type": "markdown",
   "metadata": {},
   "source": [
    "## Collections.namedtuple()"
   ]
  },
  {
   "cell_type": "code",
   "execution_count": null,
   "metadata": {},
   "outputs": [],
   "source": [
    "N = int(input())\n",
    "columns = input().split()\n",
    "Student = collections.namedtuple(\"Student\" , \" \".join(columns))\n",
    "total = 0\n",
    "\n",
    "for _ in range(N):\n",
    "    info = input().split()\n",
    "    new = Student(info[0], info[1], info[2], info[3])\n",
    "    total += int(new.MARKS)\n",
    "    \n",
    "print(total / N)"
   ]
  },
  {
   "cell_type": "markdown",
   "metadata": {},
   "source": [
    "## DefaultDict Tutorial"
   ]
  },
  {
   "cell_type": "code",
   "execution_count": null,
   "metadata": {},
   "outputs": [],
   "source": [
    "counter = defaultdict(list)\n",
    "n,m = map(int,input().split())\n",
    "x = []\n",
    "for i in range(1, n + m + 1):\n",
    "    c = input()\n",
    "    if(i > n):\n",
    "        if(d[c] == []):\n",
    "            d[c].append(-1)\n",
    "            x.append(d[c])\n",
    "        else:\n",
    "            x.append(d[c])\n",
    "    else:\n",
    "        d[c].append(i)\n",
    "\n",
    "for i in range(m):\n",
    "    print(\" \".join(list(map(str,(x[i])))))"
   ]
  },
  {
   "cell_type": "markdown",
   "metadata": {},
   "source": [
    "## collections.Counter()"
   ]
  },
  {
   "cell_type": "code",
   "execution_count": null,
   "metadata": {},
   "outputs": [],
   "source": [
    "numShoes = int(input())\n",
    "shoes = collections.Counter(map(int, input().split()))\n",
    "numCust = int(input())\n",
    "\n",
    "income = 0\n",
    "\n",
    "for i in range(numCust):\n",
    "    size, price = map(int, input().split())\n",
    "    if shoes[size]: \n",
    "        income += price\n",
    "        shoes[size] -= 1\n",
    "\n",
    "print(income)"
   ]
  },
  {
   "cell_type": "markdown",
   "metadata": {},
   "source": [
    "## Word Order"
   ]
  },
  {
   "cell_type": "code",
   "execution_count": null,
   "metadata": {},
   "outputs": [],
   "source": [
    "n = int(input())\n",
    "words = collections.Counter([input() for _ in range(n)])\n",
    "distinct = sum([word for word in words.values() if word < 2]) + len([word for word in words.values() if word > 1]) \n",
    "print(distinct)\n",
    "for val in words.values():\n",
    "    print(val, end = \" \")"
   ]
  },
  {
   "cell_type": "markdown",
   "metadata": {},
   "source": [
    "## Company Logo"
   ]
  },
  {
   "cell_type": "code",
   "execution_count": null,
   "metadata": {},
   "outputs": [],
   "source": [
    "s = input()\n",
    "counter = collections.Counter(sorted(s))\n",
    "\n",
    "for w, n in counter.most_common(3):\n",
    "    print(w, n)"
   ]
  },
  {
   "cell_type": "markdown",
   "metadata": {},
   "source": [
    "## Piling Up!"
   ]
  },
  {
   "cell_type": "code",
   "execution_count": null,
   "metadata": {},
   "outputs": [],
   "source": [
    "T = int(input())\n",
    "for i in range(T):\n",
    "    num = int(input())\n",
    "    arr = list(map(int,input().split()))\n",
    "    f = max(arr)\n",
    "    if arr[0]== f or arr[-1]== f:\n",
    "        print('Yes')\n",
    "    else:\n",
    "        print('No')"
   ]
  },
  {
   "cell_type": "code",
   "execution_count": null,
   "metadata": {},
   "outputs": [],
   "source": []
  }
 ],
 "metadata": {
  "kernelspec": {
   "display_name": "Python 3",
   "language": "python",
   "name": "python3"
  },
  "language_info": {
   "codemirror_mode": {
    "name": "ipython",
    "version": 3
   },
   "file_extension": ".py",
   "mimetype": "text/x-python",
   "name": "python",
   "nbconvert_exporter": "python",
   "pygments_lexer": "ipython3",
   "version": "3.8.3"
  }
 },
 "nbformat": 4,
 "nbformat_minor": 5
}

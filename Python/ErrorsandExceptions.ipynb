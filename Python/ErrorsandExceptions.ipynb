{
 "cells": [
  {
   "cell_type": "markdown",
   "metadata": {},
   "source": [
    "## Exceptions"
   ]
  },
  {
   "cell_type": "code",
   "execution_count": null,
   "metadata": {},
   "outputs": [],
   "source": [
    "T = int(input())\n",
    "\n",
    "for _ in range(T):\n",
    "    \n",
    "    try:\n",
    "        a, b = map(int, input().split())\n",
    "        print(a // b)\n",
    "        \n",
    "    except ZeroDivisionError as e:\n",
    "        print(\"Error Code:\", e)\n",
    "        \n",
    "    except ValueError as v:\n",
    "        print(\"Error Code:\", v)"
   ]
  }
 ],
 "metadata": {
  "kernelspec": {
   "display_name": "Python 3",
   "language": "python",
   "name": "python3"
  },
  "language_info": {
   "codemirror_mode": {
    "name": "ipython",
    "version": 3
   },
   "file_extension": ".py",
   "mimetype": "text/x-python",
   "name": "python",
   "nbconvert_exporter": "python",
   "pygments_lexer": "ipython3",
   "version": "3.8.3"
  }
 },
 "nbformat": 4,
 "nbformat_minor": 4
}

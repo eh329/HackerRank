{
 "cells": [
  {
   "cell_type": "markdown",
   "metadata": {},
   "source": [
    "## Introduction to Sets"
   ]
  },
  {
   "cell_type": "code",
   "execution_count": null,
   "metadata": {},
   "outputs": [],
   "source": [
    "def average(array):\n",
    "    return sum(set(array)) / len(set(array))"
   ]
  },
  {
   "cell_type": "markdown",
   "metadata": {},
   "source": [
    "## Symmetric Difference"
   ]
  },
  {
   "cell_type": "code",
   "execution_count": 1,
   "metadata": {},
   "outputs": [],
   "source": [
    "a,b = [set(input().split()) for _ in range(4)][1::2]\n",
    "print(*sorted(a^b, key=int), sep='\\n')"
   ]
  },
  {
   "cell_type": "markdown",
   "metadata": {},
   "source": [
    "## Set .add()"
   ]
  },
  {
   "cell_type": "code",
   "execution_count": null,
   "metadata": {},
   "outputs": [],
   "source": [
    "length = int(input())\n",
    "countries = {input() for _ in range(length)}\n",
    "print(len(countries))"
   ]
  },
  {
   "cell_type": "markdown",
   "metadata": {},
   "source": [
    "## Set .discard(), .remove() & .pop()"
   ]
  },
  {
   "cell_type": "code",
   "execution_count": null,
   "metadata": {},
   "outputs": [],
   "source": [
    "s_length = int(input())\n",
    "sets = set(map(int, input().split()))\n",
    "n = int(input())\n",
    "\n",
    "for commands in range(n):\n",
    "    command = input().split()\n",
    "    \n",
    "    if command[0] == \"pop\":\n",
    "        sets.pop()\n",
    "        \n",
    "    elif command[0] == \"remove\":\n",
    "        sets.remove(int(command[1]))\n",
    "        \n",
    "    else: \n",
    "        sets.discard(int(command[1]))\n",
    "        \n",
    "print(sum(sets))"
   ]
  },
  {
   "cell_type": "markdown",
   "metadata": {},
   "source": [
    "## Set .union() Operation"
   ]
  },
  {
   "cell_type": "code",
   "execution_count": null,
   "metadata": {},
   "outputs": [],
   "source": [
    "french = int(input())\n",
    "french_sub = set(map(int,input().split()))\n",
    "english = int(input())\n",
    "english_sub = set(map(int, input().split()))\n",
    "print(len(french_sub.union(english_sub)))"
   ]
  },
  {
   "cell_type": "markdown",
   "metadata": {},
   "source": [
    "## Set .intersection() Operation"
   ]
  },
  {
   "cell_type": "code",
   "execution_count": null,
   "metadata": {},
   "outputs": [],
   "source": [
    "french = int(input())\n",
    "french_sub = set(map(int,input().split()))\n",
    "english = int(input())\n",
    "english_sub = set(map(int, input().split()))\n",
    "print(len(french_sub.intersection(english_sub)))"
   ]
  },
  {
   "cell_type": "markdown",
   "metadata": {},
   "source": [
    "## Set .difference() Operation"
   ]
  },
  {
   "cell_type": "code",
   "execution_count": null,
   "metadata": {},
   "outputs": [],
   "source": [
    "french = int(input())\n",
    "french_sub = set(map(int,input().split()))\n",
    "english = int(input())\n",
    "english_sub = set(map(int, input().split()))\n",
    "print(len(french_sub.difference(english_sub)))"
   ]
  },
  {
   "cell_type": "markdown",
   "metadata": {},
   "source": [
    "## Set .symmetric_difference() Operation"
   ]
  },
  {
   "cell_type": "code",
   "execution_count": null,
   "metadata": {},
   "outputs": [],
   "source": [
    "french = int(input())\n",
    "french_sub = set(map(int,input().split()))\n",
    "english = int(input())\n",
    "english_sub = set(map(int, input().split()))\n",
    "print(len(french_sub.symmetric_difference(english_sub)))"
   ]
  },
  {
   "cell_type": "markdown",
   "metadata": {},
   "source": [
    "## Set Mutations"
   ]
  },
  {
   "cell_type": "code",
   "execution_count": null,
   "metadata": {},
   "outputs": [],
   "source": [
    "set1_length = int(input())\n",
    "set1 = set(map(int, input().split()))\n",
    "other_sets = int(input())\n",
    "\n",
    "for actions in range(other_sets):\n",
    "    action = input().split()\n",
    "    numbers = set(map(int, input().split()))\n",
    "    if action[0] == \"intersection_update\":\n",
    "        set1.intersection_update(numbers)\n",
    "        \n",
    "    elif action[0] == \"update\":\n",
    "        set1.update(numbers)\n",
    "        \n",
    "    elif action[0] == \"symmetric_difference_update\":\n",
    "        set1.symmetric_difference_update(numbers)\n",
    "        \n",
    "    else:\n",
    "        set1.difference_update(numbers)\n",
    "        \n",
    "print(sum(set1))"
   ]
  },
  {
   "cell_type": "markdown",
   "metadata": {},
   "source": [
    "## The Captain's Room"
   ]
  },
  {
   "cell_type": "code",
   "execution_count": null,
   "metadata": {},
   "outputs": [],
   "source": [
    "from collections import Counter\n",
    "\n",
    "k = int(input())\n",
    "rooms = list(map(int, input().split()))\n",
    "print([key for key, value in Counter(rooms).items() if value == 1][0])"
   ]
  },
  {
   "cell_type": "markdown",
   "metadata": {},
   "source": [
    "## Check Subset"
   ]
  },
  {
   "cell_type": "code",
   "execution_count": null,
   "metadata": {},
   "outputs": [],
   "source": [
    "test = int(input())\n",
    "\n",
    "for cases in range(test):\n",
    "    seta_length = int(input())\n",
    "    seta = set(map(int, input().split()))\n",
    "    setb_length = int(input())\n",
    "    setb = set(map(int, input().split()))\n",
    "    print(seta.issubset(setb))"
   ]
  },
  {
   "cell_type": "markdown",
   "metadata": {},
   "source": [
    "## Check Strict Superset"
   ]
  },
  {
   "cell_type": "code",
   "execution_count": null,
   "metadata": {},
   "outputs": [],
   "source": [
    "seta = set(map(int, input().split()))\n",
    "rounds = int(input())\n",
    "outcome = []\n",
    "\n",
    "for sets in range(rounds):\n",
    "    setn = set(map(int, input().split()))\n",
    "    outcome.append(seta.issuperset(setn))\n",
    "    \n",
    "print(all(outcome))"
   ]
  },
  {
   "cell_type": "markdown",
   "metadata": {},
   "source": [
    "## No Idea!"
   ]
  },
  {
   "cell_type": "code",
   "execution_count": null,
   "metadata": {},
   "outputs": [],
   "source": [
    "n, m = list(map(int, input().split()))\n",
    "A = list(map(int, input().split()))\n",
    "seta = set(map(int, input().split()))\n",
    "setb = set(map(int, input().split()))\n",
    "happiness = 0\n",
    "\n",
    "for number in A:\n",
    "    if number in seta:\n",
    "        happiness += 1\n",
    "        \n",
    "    elif number in setb:\n",
    "        happiness -= 1\n",
    "        \n",
    "    else:\n",
    "        continue\n",
    "    \n",
    "print(happiness)"
   ]
  }
 ],
 "metadata": {
  "kernelspec": {
   "display_name": "Python 3",
   "language": "python",
   "name": "python3"
  },
  "language_info": {
   "codemirror_mode": {
    "name": "ipython",
    "version": 3
   },
   "file_extension": ".py",
   "mimetype": "text/x-python",
   "name": "python",
   "nbconvert_exporter": "python",
   "pygments_lexer": "ipython3",
   "version": "3.8.3"
  }
 },
 "nbformat": 4,
 "nbformat_minor": 4
}

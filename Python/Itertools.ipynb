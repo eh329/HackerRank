{
 "cells": [
  {
   "cell_type": "code",
   "execution_count": 1,
   "metadata": {},
   "outputs": [],
   "source": [
    "import itertools"
   ]
  },
  {
   "cell_type": "markdown",
   "metadata": {},
   "source": [
    "## itertools.product()"
   ]
  },
  {
   "cell_type": "code",
   "execution_count": null,
   "metadata": {},
   "outputs": [],
   "source": [
    "A = list(map(int, input().split()))\n",
    "B = list(map(int, input().split()))\n",
    "for pair in itertools.product(A, B):\n",
    "    print(pair, end = \" \")"
   ]
  },
  {
   "cell_type": "markdown",
   "metadata": {},
   "source": [
    "## itertools.permutations()"
   ]
  },
  {
   "cell_type": "code",
   "execution_count": null,
   "metadata": {},
   "outputs": [],
   "source": [
    "parameters = input().split()\n",
    "perms = sorted([\"\".join(perm) for perm in itertools.permutations(parameters[0], int(parameters[1]))])\n",
    "for pair in perms:\n",
    "    print(pair)"
   ]
  },
  {
   "cell_type": "markdown",
   "metadata": {},
   "source": [
    "## itertools.combinations()"
   ]
  },
  {
   "cell_type": "code",
   "execution_count": null,
   "metadata": {},
   "outputs": [],
   "source": [
    "combo = input().split()\n",
    "for k in range(1, int(combo[1]) + 1):\n",
    "    for pair in sorted(itertools.combinations(sorted(combo[0]), k)):\n",
    "        print(*pair, sep = \"\")"
   ]
  },
  {
   "cell_type": "markdown",
   "metadata": {},
   "source": [
    "## itertools.combinations_with_replacement()"
   ]
  },
  {
   "cell_type": "code",
   "execution_count": null,
   "metadata": {},
   "outputs": [],
   "source": [
    "combo_replace = input().split()\n",
    "for pair in sorted(itertools.combinations_with_replacement(sorted(combo_replace[0]), int(combo_replace[1]))):\n",
    "    print(*pair, sep = \"\")"
   ]
  },
  {
   "cell_type": "markdown",
   "metadata": {},
   "source": [
    "## Compress the String!"
   ]
  },
  {
   "cell_type": "code",
   "execution_count": null,
   "metadata": {},
   "outputs": [],
   "source": [
    "group = input()\n",
    "for k, g in itertools.groupby(group):\n",
    "    print((len(list(g)), int(k)), end = \" \")"
   ]
  },
  {
   "cell_type": "markdown",
   "metadata": {},
   "source": [
    "## Iterables and Iterators"
   ]
  },
  {
   "cell_type": "code",
   "execution_count": null,
   "metadata": {},
   "outputs": [],
   "source": [
    "array_length = int(input())\n",
    "array = input().split()\n",
    "k = int(input())\n",
    "\n",
    "combinations = list(itertools.combinations(array, k))\n",
    "numerator = sum(list(map(lambda x: \"a\" in x, combinations)))\n",
    "print(numerator / len(combinations))"
   ]
  },
  {
   "cell_type": "markdown",
   "metadata": {},
   "source": [
    "## Maximize It!"
   ]
  },
  {
   "cell_type": "code",
   "execution_count": null,
   "metadata": {},
   "outputs": [],
   "source": [
    "K, M = map(int, input().split())\n",
    "sum_of_squared = 0\n",
    "for lists in range(K):\n",
    "    kith, *nith = map(int, input().split())\n",
    "    sum_of_squared += (max(nith) ** 2)\n",
    "    \n",
    "print(sum_of_squared % M)"
   ]
  }
 ],
 "metadata": {
  "kernelspec": {
   "display_name": "Python 3",
   "language": "python",
   "name": "python3"
  },
  "language_info": {
   "codemirror_mode": {
    "name": "ipython",
    "version": 3
   },
   "file_extension": ".py",
   "mimetype": "text/x-python",
   "name": "python",
   "nbconvert_exporter": "python",
   "pygments_lexer": "ipython3",
   "version": "3.7.9"
  }
 },
 "nbformat": 4,
 "nbformat_minor": 4
}

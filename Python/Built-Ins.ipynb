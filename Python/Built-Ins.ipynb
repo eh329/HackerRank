{
 "cells": [
  {
   "cell_type": "markdown",
   "id": "essential-yeast",
   "metadata": {},
   "source": [
    "## Input()"
   ]
  },
  {
   "cell_type": "code",
   "execution_count": null,
   "id": "wound-hampton",
   "metadata": {},
   "outputs": [],
   "source": [
    "x, k = list(map(int, input().split()))\n",
    "formula = input()\n",
    "print(eval(formula) == k)"
   ]
  },
  {
   "cell_type": "markdown",
   "id": "numeric-knowing",
   "metadata": {},
   "source": [
    "## Python Evaluation"
   ]
  },
  {
   "cell_type": "code",
   "execution_count": null,
   "id": "engaging-torture",
   "metadata": {},
   "outputs": [],
   "source": [
    "reading = input()\n",
    "eval(reading)"
   ]
  },
  {
   "cell_type": "markdown",
   "id": "inner-milwaukee",
   "metadata": {},
   "source": [
    "## Any or All"
   ]
  },
  {
   "cell_type": "code",
   "execution_count": null,
   "id": "victorian-school",
   "metadata": {},
   "outputs": [],
   "source": [
    "n = int(input())\n",
    "my_list = list(map(int, input().split()))\n",
    "all_positive = all(list(map(lambda x: x > 0, my_list)))\n",
    "any_palindromic = any((map(lambda x: str(abs(x)) == str(abs(x))[::-1], my_list)))\n",
    "print(all_positive == any_palindromic)"
   ]
  },
  {
   "cell_type": "markdown",
   "id": "gentle-reporter",
   "metadata": {},
   "source": [
    "## Zipped!"
   ]
  },
  {
   "cell_type": "code",
   "execution_count": null,
   "id": "certified-eight",
   "metadata": {},
   "outputs": [],
   "source": [
    "n, x = list(map(int, input().split()))\n",
    "grades = []\n",
    "for line in range(x):\n",
    "    grades.append(list(map(float, input().split())))\n",
    "    \n",
    "averages = [sum(x) / len(x) for x in list(zip(*grades))]\n",
    "\n",
    "for ave in averages:\n",
    "    print(ave)"
   ]
  },
  {
   "cell_type": "markdown",
   "id": "educational-terminal",
   "metadata": {},
   "source": [
    "## Athlete Sort"
   ]
  },
  {
   "cell_type": "code",
   "execution_count": null,
   "id": "affected-welsh",
   "metadata": {},
   "outputs": [],
   "source": [
    "N, M = map(int, input().split())\n",
    "rows = [input() for _ in range(N)]\n",
    "K = int(input())\n",
    "\n",
    "for row in sorted(rows, key = lambda row: int(row.split()[K])):\n",
    "    print(row)"
   ]
  },
  {
   "cell_type": "markdown",
   "id": "diagnostic-xerox",
   "metadata": {},
   "source": [
    "## ginortS"
   ]
  },
  {
   "cell_type": "code",
   "execution_count": null,
   "id": "better-grade",
   "metadata": {},
   "outputs": [],
   "source": [
    "s = input()\n",
    "alpha = \"\".join(sorted([lo for lo in s if lo.isalpha() and lo.islower()])) + \"\".join(sorted([up for up in s if up.isalpha() and up.isupper()]))\n",
    "num = \"\".join(sorted(sorted([n for n in s if n.isdigit()]), key = lambda x: int(x) % 2 == 0))\n",
    "print(alpha + num)"
   ]
  }
 ],
 "metadata": {
  "kernelspec": {
   "display_name": "Python 3",
   "language": "python",
   "name": "python3"
  },
  "language_info": {
   "codemirror_mode": {
    "name": "ipython",
    "version": 3
   },
   "file_extension": ".py",
   "mimetype": "text/x-python",
   "name": "python",
   "nbconvert_exporter": "python",
   "pygments_lexer": "ipython3",
   "version": "3.7.9"
  }
 },
 "nbformat": 4,
 "nbformat_minor": 5
}

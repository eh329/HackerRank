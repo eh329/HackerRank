{
 "cells": [
  {
   "cell_type": "code",
   "execution_count": null,
   "metadata": {},
   "outputs": [],
   "source": [
    "import re"
   ]
  },
  {
   "cell_type": "markdown",
   "metadata": {},
   "source": [
    "## Detect Floating Point Number"
   ]
  },
  {
   "cell_type": "code",
   "execution_count": null,
   "metadata": {},
   "outputs": [],
   "source": [
    "for _ in range(int(input())):\n",
    "    print(bool(re.match(r'^[-+]?[0-9]*\\.[0-9]+$', input())))"
   ]
  },
  {
   "cell_type": "markdown",
   "metadata": {},
   "source": [
    "## Re.split()"
   ]
  },
  {
   "cell_type": "code",
   "execution_count": null,
   "metadata": {},
   "outputs": [],
   "source": [
    "regex_pattern = r\"\\.|,\""
   ]
  },
  {
   "cell_type": "markdown",
   "metadata": {},
   "source": [
    "## Group(), Groups() & Groupdict()"
   ]
  },
  {
   "cell_type": "code",
   "execution_count": null,
   "metadata": {},
   "outputs": [],
   "source": [
    "s = input()\n",
    "result = re.search(r\"([a-zA-Z0-9])\\1{1,}\", s)\n",
    "\n",
    "if result == None:\n",
    "    print(-1)\n",
    "    \n",
    "else:\n",
    "    print(result.groups()[0])"
   ]
  },
  {
   "cell_type": "markdown",
   "metadata": {},
   "source": [
    "## Re.findall() & Re.finditer()"
   ]
  },
  {
   "cell_type": "code",
   "execution_count": null,
   "metadata": {},
   "outputs": [],
   "source": [
    "s = input()\n",
    "result = re.findall(r\"(?<=[^aeiouAEIOU])([aeiouAEIOU]{2,})(?=[^aeiouAEIOU])\", s)\n",
    "\n",
    "if len(result) == 0:\n",
    "    print(-1)\n",
    "    \n",
    "else:\n",
    "    for _ in result:\n",
    "        print(_)"
   ]
  },
  {
   "cell_type": "markdown",
   "metadata": {},
   "source": [
    "## Re.start() & Re.end()"
   ]
  },
  {
   "cell_type": "code",
   "execution_count": null,
   "metadata": {},
   "outputs": [],
   "source": [
    "s = input()\n",
    "k = input()\n",
    "final = []\n",
    "\n",
    "for _ in range(len(s)):\n",
    "    search = re.search(k, s[_:])\n",
    "    \n",
    "    if search:\n",
    "        start = search.start() + _\n",
    "        end = (search.end() - 1) + _\n",
    "        final.append((start, end))\n",
    "    \n",
    "    else:\n",
    "        continue\n",
    "\n",
    "final = sorted(list(set(final)))\n",
    "if final:\n",
    "    for item in final:\n",
    "        print(item)\n",
    "        \n",
    "else:\n",
    "    print((-1, -1))"
   ]
  }
 ],
 "metadata": {
  "kernelspec": {
   "display_name": "Python 3",
   "language": "python",
   "name": "python3"
  },
  "language_info": {
   "codemirror_mode": {
    "name": "ipython",
    "version": 3
   },
   "file_extension": ".py",
   "mimetype": "text/x-python",
   "name": "python",
   "nbconvert_exporter": "python",
   "pygments_lexer": "ipython3",
   "version": "3.8.3"
  }
 },
 "nbformat": 4,
 "nbformat_minor": 4
}

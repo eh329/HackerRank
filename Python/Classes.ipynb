{
 "cells": [
  {
   "cell_type": "markdown",
   "metadata": {},
   "source": [
    "## Classes: Dealing with Complex Numbers"
   ]
  },
  {
   "cell_type": "code",
   "execution_count": null,
   "metadata": {},
   "outputs": [],
   "source": [
    "class Complex(object):\n",
    "    def __init__(self, real, imaginary):\n",
    "        self.real = real\n",
    "        self.imaginary = imaginary\n",
    "\n",
    "    def __add__(self, no):\n",
    "        a = complex(self.real, self.imaginary)\n",
    "        b = complex(no.real, no.imaginary)\n",
    "        return Complex((a+b).real , (a+b).imag).__str__()\n",
    "        \n",
    "    def __sub__(self, no):\n",
    "        a = complex(self.real, self.imaginary)\n",
    "        b = complex(no.real, no.imaginary)\n",
    "        return Complex((a-b).real , (a-b).imag).__str__()\n",
    "        \n",
    "    def __mul__(self, no):\n",
    "        a = complex(self.real, self.imaginary)\n",
    "        b = complex(no.real, no.imaginary)\n",
    "        return Complex((a*b).real , (a*b).imag).__str__()\n",
    "\n",
    "    def __truediv__(self, no):\n",
    "        a = complex(self.real, self.imaginary)\n",
    "        b = complex(no.real, no.imaginary)\n",
    "        return Complex((a/b).real , (a/b).imag).__str__()\n",
    "\n",
    "    def mod(self):\n",
    "        return Complex(abs(complex(self.real, self.imaginary)), 0)\n",
    "\n",
    "    def __str__(self):\n",
    "        if self.imaginary == 0:\n",
    "            result = \"%.2f+0.00i\" % (self.real)\n",
    "        elif self.real == 0:\n",
    "            if self.imaginary >= 0:\n",
    "                result = \"0.00+%.2fi\" % (self.imaginary)\n",
    "            else:\n",
    "                result = \"0.00-%.2fi\" % (abs(self.imaginary))\n",
    "        elif self.imaginary > 0:\n",
    "            result = \"%.2f+%.2fi\" % (self.real, self.imaginary)\n",
    "        else:\n",
    "            result = \"%.2f-%.2fi\" % (self.real, abs(self.imaginary))\n",
    "        return result"
   ]
  },
  {
   "cell_type": "markdown",
   "metadata": {},
   "source": [
    "## Class 2 - Find the Torsional Angle"
   ]
  },
  {
   "cell_type": "code",
   "execution_count": null,
   "metadata": {},
   "outputs": [],
   "source": [
    "import math\n",
    "\n",
    "class Points(object):\n",
    "    def __init__(self, x, y, z):\n",
    "        self.x = float(x)\n",
    "        self.y = float(y)\n",
    "        self.z = float(z)\n",
    "        \n",
    "    def __sub__(self, no):\n",
    "        return  Points((self.x - no.x),(self.y - no.y),(self.z - no.z))\n",
    "    \n",
    "    def dot(self, no):\n",
    "        return (self.x * no.x) + (self.y * no.y) + (self.z * no.z)\n",
    "    \n",
    "    def cross(self, no):\n",
    "        return Points((self.y * no.z - self.z * no.y),(self.z * no.x - self.x * no.z),(self.x * no.y - self.y * no.x))\n",
    "    \n",
    "    def absolute(self):\n",
    "        return pow((self.x ** 2 + self.y ** 2 + self.z ** 2), 0.5)"
   ]
  }
 ],
 "metadata": {
  "kernelspec": {
   "display_name": "Python 3",
   "language": "python",
   "name": "python3"
  },
  "language_info": {
   "codemirror_mode": {
    "name": "ipython",
    "version": 3
   },
   "file_extension": ".py",
   "mimetype": "text/x-python",
   "name": "python",
   "nbconvert_exporter": "python",
   "pygments_lexer": "ipython3",
   "version": "3.8.3"
  }
 },
 "nbformat": 4,
 "nbformat_minor": 4
}
